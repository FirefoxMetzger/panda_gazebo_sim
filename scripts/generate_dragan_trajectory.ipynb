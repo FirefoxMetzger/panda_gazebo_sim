{
 "metadata": {
  "language_info": {
   "codemirror_mode": {
    "name": "ipython",
    "version": 3
   },
   "file_extension": ".py",
   "mimetype": "text/x-python",
   "name": "python",
   "nbconvert_exporter": "python",
   "pygments_lexer": "ipython3",
   "version": "3.7.0-final"
  },
  "orig_nbformat": 2,
  "kernelspec": {
   "name": "python37064bitca062fd033684dcb9d4309664c7e5ff9",
   "display_name": "Python 3.7.0 64-bit",
   "language": "python"
  }
 },
 "nbformat": 4,
 "nbformat_minor": 2,
 "cells": [
  {
   "cell_type": "code",
   "execution_count": 1,
   "metadata": {},
   "outputs": [],
   "source": [
    "import numpy as np\n",
    "import tensorflow as tf"
   ]
  },
  {
   "cell_type": "code",
   "execution_count": 2,
   "metadata": {},
   "outputs": [],
   "source": [
    "start = tf.constant([1.548837512, 0.07374419285, -0.009645789198, -2.307796117, 0.03278595457, 2.367094903, 0.7636861643], dtype=tf.float32)\n",
    "goal = tf.constant([0.5892901589, 0.4606513663, 0.02096505987, -2.409281471, -1.05241235, 1.91614986, 0.5328634008], dtype=tf.float32)"
   ]
  },
  {
   "cell_type": "code",
   "execution_count": 3,
   "metadata": {},
   "outputs": [],
   "source": [
    "blue =    tf.constant([0.5892901589, 0.4606513663, 0.02096505987, -2.409281471, -1.05241235, 1.91614986, 0.5328634008], dtype=tf.float32)\n",
    "green =   tf.constant([0.04828069357, 0.321198491, -0.09149035608, -2.445509451, 0.0339262541, 2.766537249, -0.7381757918], dtype=tf.float32)\n",
    "red =     tf.constant([0.4973887075, 0.3626231152, -0.1262784644, -2.353311054, 0.1667072496, 2.697354126, -0.9114452175], dtype=tf.float32)"
   ]
  },
  {
   "cell_type": "code",
   "execution_count": 4,
   "metadata": {},
   "outputs": [],
   "source": [
    "@tf.function\n",
    "def constrain_start_goal(keyframes, start, goal):\n",
    "    return tf.concat((start[None, :], keyframes[1:-1], goal[None, :]), 0)"
   ]
  },
  {
   "source": [
    "@tf.function\n",
    "def integrate(a, b, function, num_samples=100):\n",
    "    # from https://en.wikipedia.org/wiki/Numerical_integration\n",
    "    positions = tf.cast(a + tf.range(num_samples+1)*(b-a)/num_samples, tf.float32)\n",
    "    values = function(positions)\n",
    "    integral = (b-a)/num_samples * (values[0]/2 + tf.reduce_sum(values[1:-1], axis=0) + values[-1]/2)\n",
    "    return integral"
   ],
   "cell_type": "code",
   "metadata": {},
   "execution_count": 5,
   "outputs": []
  },
  {
   "cell_type": "code",
   "execution_count": 6,
   "metadata": {},
   "outputs": [],
   "source": [
    "@tf.function\n",
    "def trajectory(t, keyframes):\n",
    "    \"\"\"Compute the position of the robot at a given time\n",
    "\n",
    "    Given a tensor of times t (each element within [0, 1]) and a trajectory in\n",
    "    joint space given by a set of keyframes, compute the pose of the robot\n",
    "    for each time t.\n",
    "\n",
    "    All dimensions of the time tensor are assumed to be batch dimensions.\n",
    "\n",
    "    The trajectory is assumed to be piece-wise linear between keyframes. At time\n",
    "    t=0 the robot is in the position of the first keyframe, and at time t=1 the robot\n",
    "    is in the pose of the last keyframe. The last dimension of a keyframe indicates \n",
    "    the pose, whereas the first dimension indicates the sequence in which the \n",
    "    keyframes are being visited. All other dimensions are batch dimensions.\n",
    "\n",
    "    t - a tensor of any shape with values between [0, 1]\n",
    "    keyframes - a tensor of keyframes where keyframes[0] denotes the sequence of keyframes\n",
    "        and keyframes[..., :] denotes the pose of the robot.\n",
    "    \n",
    "    \"\"\"\n",
    "    N = tf.constant(keyframes.shape[-2], dtype=np.float32)\n",
    "    direction = tf.concat((keyframes, keyframes[-1, ...][None, ...]), axis=0)[1:, ...] - keyframes\n",
    "    idx = tf.cast(tf.floor(t * (N-1)), tf.int64)\n",
    "    time_shape = (*t.shape, *(1 for _ in range(len(keyframes.shape)-1)))\n",
    "    return tf.gather(direction, idx, axis=0) * tf.reshape(tf.math.floormod(t*N, 1), time_shape) + tf.gather(keyframes, idx, axis=0)\n",
    "\n",
    "@tf.function\n",
    "def velocity(t, keyframes):\n",
    "    N = t.shape[0]\n",
    "    with tf.GradientTape() as tape:\n",
    "        tape.watch(t)\n",
    "        trajectory_points = trajectory(t, keyframes)\n",
    "    jacobian = tape.jacobian(trajectory_points, t)\n",
    "    vel = tf.reduce_sum(tf.reshape(jacobian, (*trajectory_points.shape, -1)), axis=-1)\n",
    "    return vel\n",
    "\n",
    "@tf.function\n",
    "def velocity_fast(t, keyframes):\n",
    "    N = tf.constant(keyframes.shape[0], dtype=np.float32)\n",
    "    direction = tf.concat((keyframes, keyframes[-1, ...][None, ...]), axis=0)[1:, ...] - keyframes\n",
    "    idx = tf.cast(tf.floor(t * (N-1)), tf.int64)\n",
    "    return tf.gather(direction, idx, axis=0) * N"
   ]
  },
  {
   "cell_type": "code",
   "execution_count": 7,
   "metadata": {},
   "outputs": [],
   "source": [
    "@tf.function\n",
    "def cost(keyframes):\n",
    "    return integrate(\n",
    "        0, 1, \n",
    "        lambda t: tf.reduce_sum(velocity_fast(t, keyframes)*velocity_fast(t, keyframes), axis=-1)\n",
    "    )\n",
    "\n",
    "def V(start, goal, *, num_keys=10, steps=10):\n",
    "    num_keys = 10\n",
    "    steps=10\n",
    "    keyframes = tf.Variable(\n",
    "        tf.linspace(start, goal, num_keys, axis=0), \n",
    "        constraint=lambda x: constrain_start_goal(x, start, goal)\n",
    "        )\n",
    "    opt = tf.optimizers.Adam(learning_rate=0.01)\n",
    "    for idx in range(steps):\n",
    "        opt.minimize(lambda: cost(keyframes), var_list=[keyframes])\n",
    "\n",
    "    return cost(keyframes)\n",
    "\n",
    "@tf.function\n",
    "def V_fast(start, goal):\n",
    "    return cost(tf.linspace(start, goal, 3, axis=0))"
   ]
  },
  {
   "cell_type": "code",
   "execution_count": 8,
   "metadata": {},
   "outputs": [],
   "source": [
    "@tf.function\n",
    "def P_goals(goal, num_goals=3):\n",
    "    return 1/num_goals\n",
    "\n",
    "@tf.function\n",
    "def prop_goal(t, start, goal, keyframes, P_goals):\n",
    "    current_pos = trajectory(t, keyframes)\n",
    "    numerator = tf.math.exp(V_fast(start, goal) - V_fast(current_pos, goal))\n",
    "    denominator = ( \n",
    "        tf.math.exp(V_fast(start, red) - V_fast(current_pos, red)) + \n",
    "        tf.math.exp(V_fast(start, blue) - V_fast(current_pos, blue)) + \n",
    "        tf.math.exp(V_fast(start, green) - V_fast(current_pos, green))\n",
    "    )\n",
    "    return numerator / denominator * P_goals(goal)\n",
    "\n",
    "@tf.function\n",
    "def normalization(t, T=1):\n",
    "    return T - t\n",
    "\n",
    "@tf.function\n",
    "def legibility(start, goal, keyframes):\n",
    "    numerator = integrate(0, 1, lambda t: prop_goal(t, start, goal, keyframes, P_goals)*normalization(t))\n",
    "    denominator = integrate(0, 1, lambda t: normalization(t))\n",
    "    return numerator / denominator"
   ]
  },
  {
   "cell_type": "code",
   "execution_count": 9,
   "metadata": {},
   "outputs": [],
   "source": [
    "keyframes = tf.Variable(\n",
    "    np.load(\"initial_trajectory.npy\").reshape((-1, 7)), \n",
    "    dtype=tf.float32,\n",
    "    constraint=lambda x: constrain_start_goal(x, start, goal)\n",
    ")"
   ]
  },
  {
   "cell_type": "code",
   "execution_count": 10,
   "metadata": {},
   "outputs": [],
   "source": [
    "# compile all graphs\n",
    "\n",
    "t = tf.cast(tf.linspace(0,1,100), tf.float32)\n",
    "num_samples=100\n",
    "a = 0\n",
    "b = 1\n",
    "function = lambda t: prop_goal(t, start, goal, keyframes, P_goals)*normalization(t)\n",
    "positions = tf.cast(a + tf.range(num_samples+1)*(b-a)/num_samples, tf.float32)\n",
    "values = function(positions)"
   ]
  },
  {
   "cell_type": "code",
   "execution_count": 25,
   "metadata": {},
   "outputs": [],
   "source": [
    "with tf.GradientTape() as tape1:\n",
    "    tape1.watch(keyframes)\n",
    "    with tf.GradientTape() as tape2:\n",
    "        tape2.watch(keyframes)\n",
    "        y = cost(keyframes)\n",
    "    dydx = tape2.gradient(y, keyframes)\n",
    "hessian = tape1.jacobian(dydx, keyframes)"
   ]
  },
  {
   "cell_type": "code",
   "execution_count": 17,
   "metadata": {},
   "outputs": [
    {
     "output_type": "execute_result",
     "data": {
      "text/plain": [
       "<tf.Tensor: shape=(), dtype=float32, numpy=4.1173635>"
      ]
     },
     "metadata": {},
     "execution_count": 17
    }
   ],
   "source": [
    "cost(keyframes)"
   ]
  },
  {
   "cell_type": "code",
   "execution_count": 31,
   "metadata": {},
   "outputs": [],
   "source": [
    "def target_function(keyframes, start, goal, eta=0.01):\n",
    "    return - ( legibility(start, goal, keyframes) )"
   ]
  },
  {
   "cell_type": "code",
   "execution_count": 37,
   "metadata": {},
   "outputs": [
    {
     "output_type": "stream",
     "name": "stdout",
     "text": [
      "tf.Tensor(0.3268209, shape=(), dtype=float32)\n",
      "tf.Tensor(0.32692358, shape=(), dtype=float32)\n",
      "tf.Tensor(0.32702276, shape=(), dtype=float32)\n",
      "tf.Tensor(0.32711858, shape=(), dtype=float32)\n",
      "tf.Tensor(0.3272109, shape=(), dtype=float32)\n",
      "tf.Tensor(0.32730013, shape=(), dtype=float32)\n",
      "tf.Tensor(0.3273862, shape=(), dtype=float32)\n",
      "tf.Tensor(0.32746926, shape=(), dtype=float32)\n",
      "tf.Tensor(0.32754943, shape=(), dtype=float32)\n",
      "tf.Tensor(0.32762676, shape=(), dtype=float32)\n",
      "tf.Tensor(0.32770148, shape=(), dtype=float32)\n",
      "tf.Tensor(0.32777357, shape=(), dtype=float32)\n",
      "tf.Tensor(0.32784325, shape=(), dtype=float32)\n",
      "tf.Tensor(0.32791042, shape=(), dtype=float32)\n",
      "tf.Tensor(0.32797533, shape=(), dtype=float32)\n",
      "tf.Tensor(0.32803813, shape=(), dtype=float32)\n",
      "tf.Tensor(0.32809874, shape=(), dtype=float32)\n",
      "tf.Tensor(0.32815734, shape=(), dtype=float32)\n",
      "tf.Tensor(0.328214, shape=(), dtype=float32)\n",
      "tf.Tensor(0.32826877, shape=(), dtype=float32)\n",
      "tf.Tensor(0.32832178, shape=(), dtype=float32)\n",
      "tf.Tensor(0.32837301, shape=(), dtype=float32)\n",
      "tf.Tensor(0.32842267, shape=(), dtype=float32)\n",
      "tf.Tensor(0.3284707, shape=(), dtype=float32)\n",
      "tf.Tensor(0.32851717, shape=(), dtype=float32)\n",
      "tf.Tensor(0.32856223, shape=(), dtype=float32)\n",
      "tf.Tensor(0.32860583, shape=(), dtype=float32)\n",
      "tf.Tensor(0.32864815, shape=(), dtype=float32)\n",
      "tf.Tensor(0.3286891, shape=(), dtype=float32)\n",
      "tf.Tensor(0.32872888, shape=(), dtype=float32)\n",
      "tf.Tensor(0.32876742, shape=(), dtype=float32)\n",
      "tf.Tensor(0.32880485, shape=(), dtype=float32)\n",
      "tf.Tensor(0.32884115, shape=(), dtype=float32)\n",
      "tf.Tensor(0.3288765, shape=(), dtype=float32)\n",
      "tf.Tensor(0.32891074, shape=(), dtype=float32)\n",
      "tf.Tensor(0.32894406, shape=(), dtype=float32)\n",
      "tf.Tensor(0.32897642, shape=(), dtype=float32)\n",
      "tf.Tensor(0.3290079, shape=(), dtype=float32)\n",
      "tf.Tensor(0.32903847, shape=(), dtype=float32)\n",
      "tf.Tensor(0.3290683, shape=(), dtype=float32)\n",
      "tf.Tensor(0.32909727, shape=(), dtype=float32)\n",
      "tf.Tensor(0.32912555, shape=(), dtype=float32)\n",
      "tf.Tensor(0.32915306, shape=(), dtype=float32)\n",
      "tf.Tensor(0.32917982, shape=(), dtype=float32)\n",
      "tf.Tensor(0.329206, shape=(), dtype=float32)\n",
      "tf.Tensor(0.32923144, shape=(), dtype=float32)\n",
      "tf.Tensor(0.32925633, shape=(), dtype=float32)\n",
      "tf.Tensor(0.32928056, shape=(), dtype=float32)\n",
      "tf.Tensor(0.3293042, shape=(), dtype=float32)\n",
      "tf.Tensor(0.32932732, shape=(), dtype=float32)\n",
      "tf.Tensor(0.3293499, shape=(), dtype=float32)\n",
      "tf.Tensor(0.3293719, shape=(), dtype=float32)\n",
      "tf.Tensor(0.32939342, shape=(), dtype=float32)\n",
      "tf.Tensor(0.32941452, shape=(), dtype=float32)\n",
      "tf.Tensor(0.32943508, shape=(), dtype=float32)\n",
      "tf.Tensor(0.32945523, shape=(), dtype=float32)\n",
      "tf.Tensor(0.3294749, shape=(), dtype=float32)\n",
      "tf.Tensor(0.3294942, shape=(), dtype=float32)\n",
      "tf.Tensor(0.32951304, shape=(), dtype=float32)\n",
      "tf.Tensor(0.32953152, shape=(), dtype=float32)\n",
      "tf.Tensor(0.32954955, shape=(), dtype=float32)\n",
      "tf.Tensor(0.32956728, shape=(), dtype=float32)\n",
      "tf.Tensor(0.3295847, shape=(), dtype=float32)\n",
      "tf.Tensor(0.3296017, shape=(), dtype=float32)\n",
      "tf.Tensor(0.32961836, shape=(), dtype=float32)\n",
      "tf.Tensor(0.32963473, shape=(), dtype=float32)\n",
      "tf.Tensor(0.32965076, shape=(), dtype=float32)\n",
      "tf.Tensor(0.32966653, shape=(), dtype=float32)\n",
      "tf.Tensor(0.32968193, shape=(), dtype=float32)\n",
      "tf.Tensor(0.3296971, shape=(), dtype=float32)\n",
      "tf.Tensor(0.32971197, shape=(), dtype=float32)\n",
      "tf.Tensor(0.32972655, shape=(), dtype=float32)\n",
      "tf.Tensor(0.3297409, shape=(), dtype=float32)\n",
      "tf.Tensor(0.329755, shape=(), dtype=float32)\n",
      "tf.Tensor(0.32976884, shape=(), dtype=float32)\n",
      "tf.Tensor(0.32978243, shape=(), dtype=float32)\n",
      "tf.Tensor(0.32979578, shape=(), dtype=float32)\n",
      "tf.Tensor(0.32980892, shape=(), dtype=float32)\n",
      "tf.Tensor(0.3298218, shape=(), dtype=float32)\n",
      "tf.Tensor(0.32983455, shape=(), dtype=float32)\n",
      "tf.Tensor(0.32984698, shape=(), dtype=float32)\n",
      "tf.Tensor(0.32985926, shape=(), dtype=float32)\n",
      "tf.Tensor(0.32987136, shape=(), dtype=float32)\n",
      "tf.Tensor(0.32988328, shape=(), dtype=float32)\n",
      "tf.Tensor(0.32989493, shape=(), dtype=float32)\n",
      "tf.Tensor(0.32990646, shape=(), dtype=float32)\n",
      "tf.Tensor(0.32991776, shape=(), dtype=float32)\n",
      "tf.Tensor(0.32992887, shape=(), dtype=float32)\n",
      "tf.Tensor(0.32993984, shape=(), dtype=float32)\n",
      "tf.Tensor(0.32995066, shape=(), dtype=float32)\n",
      "tf.Tensor(0.3299613, shape=(), dtype=float32)\n",
      "tf.Tensor(0.32997176, shape=(), dtype=float32)\n",
      "tf.Tensor(0.3299821, shape=(), dtype=float32)\n",
      "tf.Tensor(0.3299923, shape=(), dtype=float32)\n",
      "tf.Tensor(0.33000228, shape=(), dtype=float32)\n",
      "tf.Tensor(0.33001217, shape=(), dtype=float32)\n",
      "tf.Tensor(0.33002192, shape=(), dtype=float32)\n",
      "tf.Tensor(0.33003145, shape=(), dtype=float32)\n",
      "tf.Tensor(0.33004087, shape=(), dtype=float32)\n",
      "tf.Tensor(0.33005023, shape=(), dtype=float32)\n",
      "tf.Tensor(0.33005935, shape=(), dtype=float32)\n"
     ]
    }
   ],
   "source": [
    "opt = tf.optimizers.Adam(learning_rate=0.01)\n",
    "print(legibility(start, goal, keyframes))\n",
    "for idx in range(100):\n",
    "    opt.minimize(lambda: target_function(keyframes, start, goal), var_list=[keyframes])\n",
    "    print(legibility(start, goal, keyframes))"
   ]
  },
  {
   "cell_type": "code",
   "execution_count": 42,
   "metadata": {},
   "outputs": [],
   "source": [
    "np.save(\"dragan_trajectory.npy\", keyframes.numpy())"
   ]
  },
  {
   "cell_type": "code",
   "execution_count": null,
   "metadata": {},
   "outputs": [],
   "source": []
  }
 ]
}